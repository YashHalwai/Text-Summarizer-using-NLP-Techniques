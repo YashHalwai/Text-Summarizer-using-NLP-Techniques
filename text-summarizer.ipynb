{
 "cells": [
  {
   "cell_type": "markdown",
   "metadata": {
    "papermill": {
     "duration": 0.017304,
     "end_time": "2021-06-24T08:40:31.981189",
     "exception": false,
     "start_time": "2021-06-24T08:40:31.963885",
     "status": "completed"
    },
    "tags": []
   },
   "source": [
    "# 1 Importing the required Libraries"
   ]
  },
  {
   "cell_type": "code",
   "execution_count": 27,
   "metadata": {
    "_cell_guid": "b1076dfc-b9ad-4769-8c92-a6c4dae69d19",
    "_uuid": "8f2839f25d086af736a60e9eeb907d3b93b6e0e5",
    "execution": {
     "iopub.execute_input": "2021-06-24T08:40:32.024737Z",
     "iopub.status.busy": "2021-06-24T08:40:32.023888Z",
     "iopub.status.idle": "2021-06-24T08:40:33.968099Z",
     "shell.execute_reply": "2021-06-24T08:40:33.967435Z",
     "shell.execute_reply.started": "2021-06-24T07:51:37.846299Z"
    },
    "papermill": {
     "duration": 1.969935,
     "end_time": "2021-06-24T08:40:33.968337",
     "exception": false,
     "start_time": "2021-06-24T08:40:31.998402",
     "status": "completed"
    },
    "tags": []
   },
   "outputs": [
    {
     "name": "stderr",
     "output_type": "stream",
     "text": [
      "[nltk_data] Downloading package punkt to\n",
      "[nltk_data]     C:\\Users\\halwa\\AppData\\Roaming\\nltk_data...\n",
      "[nltk_data]   Unzipping tokenizers\\punkt.zip.\n"
     ]
    }
   ],
   "source": [
    "import numpy as np\n",
    "import pandas as pd\n",
    "import warnings\n",
    "import re\n",
    "import nltk\n",
    "\n",
    "# Download the punkt resource\n",
    "nltk.download('punkt')\n",
    "\n",
    "from nltk import word_tokenize\n",
    "from nltk.tokenize import sent_tokenize\n",
    "from textblob import TextBlob\n",
    "import string\n",
    "from string import punctuation as default_punctuation\n",
    "from nltk.corpus import stopwords\n",
    "from statistics import mean\n",
    "from heapq import nlargest\n",
    "from wordcloud import WordCloud\n",
    "import seaborn as sns\n",
    "import matplotlib.pyplot as plt\n",
    "\n",
    "stop_words = set(stopwords.words('english'))\n",
    "custom_punctuation = default_punctuation + '\\n' + '—' + '“' + ',' + '”' + '‘' + '-' + '’'\n",
    "warnings.filterwarnings('ignore')"
   ]
  },
  {
   "cell_type": "code",
   "execution_count": 7,
   "metadata": {
    "execution": {
     "iopub.execute_input": "2021-06-24T08:40:34.006293Z",
     "iopub.status.busy": "2021-06-24T08:40:34.005638Z",
     "iopub.status.idle": "2021-06-24T08:40:49.741109Z",
     "shell.execute_reply": "2021-06-24T08:40:49.739926Z",
     "shell.execute_reply.started": "2021-06-24T07:51:39.637029Z"
    },
    "papermill": {
     "duration": 15.755679,
     "end_time": "2021-06-24T08:40:49.741309",
     "exception": false,
     "start_time": "2021-06-24T08:40:33.985630",
     "status": "completed"
    },
    "tags": []
   },
   "outputs": [],
   "source": [
    "# Importing the dataset\n",
    "df_1 = pd.read_csv(\"articles1.csv\")\n",
    "df_2 = pd.read_csv(\"articles2.csv\")\n",
    "df_3 = pd.read_csv(\"articles3.csv\")"
   ]
  },
  {
   "cell_type": "code",
   "execution_count": 8,
   "metadata": {
    "execution": {
     "iopub.execute_input": "2021-06-24T08:40:49.784070Z",
     "iopub.status.busy": "2021-06-24T08:40:49.782947Z",
     "iopub.status.idle": "2021-06-24T08:40:49.786905Z",
     "shell.execute_reply": "2021-06-24T08:40:49.787408Z",
     "shell.execute_reply.started": "2021-06-24T07:51:56.759615Z"
    },
    "papermill": {
     "duration": 0.028925,
     "end_time": "2021-06-24T08:40:49.787581",
     "exception": false,
     "start_time": "2021-06-24T08:40:49.758656",
     "status": "completed"
    },
    "tags": []
   },
   "outputs": [
    {
     "data": {
      "text/plain": [
       "array([ True,  True,  True,  True,  True,  True,  True,  True,  True,\n",
       "        True])"
      ]
     },
     "execution_count": 8,
     "metadata": {},
     "output_type": "execute_result"
    }
   ],
   "source": [
    "# Checking if the columns are same or not\n",
    "df_1.columns == df_2.columns"
   ]
  },
  {
   "cell_type": "code",
   "execution_count": 9,
   "metadata": {
    "execution": {
     "iopub.execute_input": "2021-06-24T08:40:49.828087Z",
     "iopub.status.busy": "2021-06-24T08:40:49.826929Z",
     "iopub.status.idle": "2021-06-24T08:40:49.830891Z",
     "shell.execute_reply": "2021-06-24T08:40:49.831401Z",
     "shell.execute_reply.started": "2021-06-24T07:51:56.771169Z"
    },
    "papermill": {
     "duration": 0.026575,
     "end_time": "2021-06-24T08:40:49.831603",
     "exception": false,
     "start_time": "2021-06-24T08:40:49.805028",
     "status": "completed"
    },
    "tags": []
   },
   "outputs": [
    {
     "data": {
      "text/plain": [
       "array([ True,  True,  True,  True,  True,  True,  True,  True,  True,\n",
       "        True])"
      ]
     },
     "execution_count": 9,
     "metadata": {},
     "output_type": "execute_result"
    }
   ],
   "source": [
    "# Checking if the columns are same or not\n",
    "df_2.columns == df_3.columns"
   ]
  },
  {
   "cell_type": "code",
   "execution_count": 10,
   "metadata": {
    "execution": {
     "iopub.execute_input": "2021-06-24T08:40:49.874725Z",
     "iopub.status.busy": "2021-06-24T08:40:49.874031Z",
     "iopub.status.idle": "2021-06-24T08:40:49.947059Z",
     "shell.execute_reply": "2021-06-24T08:40:49.946528Z",
     "shell.execute_reply.started": "2021-06-24T07:51:56.786666Z"
    },
    "papermill": {
     "duration": 0.097766,
     "end_time": "2021-06-24T08:40:49.947229",
     "exception": false,
     "start_time": "2021-06-24T08:40:49.849463",
     "status": "completed"
    },
    "tags": []
   },
   "outputs": [],
   "source": [
    "# Making one Dataframe by appending all of them for the further process\n",
    "d = [df_1, df_2, df_3]\n",
    "df = pd.concat(d, keys = ['x', 'y', 'z'])\n",
    "df.rename(columns = {'content' : 'article'}, inplace = True);"
   ]
  },
  {
   "cell_type": "code",
   "execution_count": 11,
   "metadata": {
    "execution": {
     "iopub.execute_input": "2021-06-24T08:40:49.988658Z",
     "iopub.status.busy": "2021-06-24T08:40:49.987640Z",
     "iopub.status.idle": "2021-06-24T08:40:50.013368Z",
     "shell.execute_reply": "2021-06-24T08:40:50.012663Z",
     "shell.execute_reply.started": "2021-06-24T07:51:56.865511Z"
    },
    "papermill": {
     "duration": 0.04872,
     "end_time": "2021-06-24T08:40:50.013517",
     "exception": false,
     "start_time": "2021-06-24T08:40:49.964797",
     "status": "completed"
    },
    "tags": []
   },
   "outputs": [
    {
     "data": {
      "text/html": [
       "<div>\n",
       "<style scoped>\n",
       "    .dataframe tbody tr th:only-of-type {\n",
       "        vertical-align: middle;\n",
       "    }\n",
       "\n",
       "    .dataframe tbody tr th {\n",
       "        vertical-align: top;\n",
       "    }\n",
       "\n",
       "    .dataframe thead th {\n",
       "        text-align: right;\n",
       "    }\n",
       "</style>\n",
       "<table border=\"1\" class=\"dataframe\">\n",
       "  <thead>\n",
       "    <tr style=\"text-align: right;\">\n",
       "      <th></th>\n",
       "      <th></th>\n",
       "      <th>Unnamed: 0</th>\n",
       "      <th>id</th>\n",
       "      <th>title</th>\n",
       "      <th>publication</th>\n",
       "      <th>author</th>\n",
       "      <th>date</th>\n",
       "      <th>year</th>\n",
       "      <th>month</th>\n",
       "      <th>url</th>\n",
       "      <th>article</th>\n",
       "    </tr>\n",
       "  </thead>\n",
       "  <tbody>\n",
       "    <tr>\n",
       "      <th rowspan=\"5\" valign=\"top\">x</th>\n",
       "      <th>0</th>\n",
       "      <td>0</td>\n",
       "      <td>17283</td>\n",
       "      <td>House Republicans Fret About Winning Their Hea...</td>\n",
       "      <td>New York Times</td>\n",
       "      <td>Carl Hulse</td>\n",
       "      <td>2016-12-31</td>\n",
       "      <td>2016.0</td>\n",
       "      <td>12.0</td>\n",
       "      <td>NaN</td>\n",
       "      <td>WASHINGTON  —   Congressional Republicans have...</td>\n",
       "    </tr>\n",
       "    <tr>\n",
       "      <th>1</th>\n",
       "      <td>1</td>\n",
       "      <td>17284</td>\n",
       "      <td>Rift Between Officers and Residents as Killing...</td>\n",
       "      <td>New York Times</td>\n",
       "      <td>Benjamin Mueller and Al Baker</td>\n",
       "      <td>2017-06-19</td>\n",
       "      <td>2017.0</td>\n",
       "      <td>6.0</td>\n",
       "      <td>NaN</td>\n",
       "      <td>After the bullet shells get counted, the blood...</td>\n",
       "    </tr>\n",
       "    <tr>\n",
       "      <th>2</th>\n",
       "      <td>2</td>\n",
       "      <td>17285</td>\n",
       "      <td>Tyrus Wong, ‘Bambi’ Artist Thwarted by Racial ...</td>\n",
       "      <td>New York Times</td>\n",
       "      <td>Margalit Fox</td>\n",
       "      <td>2017-01-06</td>\n",
       "      <td>2017.0</td>\n",
       "      <td>1.0</td>\n",
       "      <td>NaN</td>\n",
       "      <td>When Walt Disney’s “Bambi” opened in 1942, cri...</td>\n",
       "    </tr>\n",
       "    <tr>\n",
       "      <th>3</th>\n",
       "      <td>3</td>\n",
       "      <td>17286</td>\n",
       "      <td>Among Deaths in 2016, a Heavy Toll in Pop Musi...</td>\n",
       "      <td>New York Times</td>\n",
       "      <td>William McDonald</td>\n",
       "      <td>2017-04-10</td>\n",
       "      <td>2017.0</td>\n",
       "      <td>4.0</td>\n",
       "      <td>NaN</td>\n",
       "      <td>Death may be the great equalizer, but it isn’t...</td>\n",
       "    </tr>\n",
       "    <tr>\n",
       "      <th>4</th>\n",
       "      <td>4</td>\n",
       "      <td>17287</td>\n",
       "      <td>Kim Jong-un Says North Korea Is Preparing to T...</td>\n",
       "      <td>New York Times</td>\n",
       "      <td>Choe Sang-Hun</td>\n",
       "      <td>2017-01-02</td>\n",
       "      <td>2017.0</td>\n",
       "      <td>1.0</td>\n",
       "      <td>NaN</td>\n",
       "      <td>SEOUL, South Korea  —   North Korea’s leader, ...</td>\n",
       "    </tr>\n",
       "  </tbody>\n",
       "</table>\n",
       "</div>"
      ],
      "text/plain": [
       "     Unnamed: 0     id                                              title  \\\n",
       "x 0           0  17283  House Republicans Fret About Winning Their Hea...   \n",
       "  1           1  17284  Rift Between Officers and Residents as Killing...   \n",
       "  2           2  17285  Tyrus Wong, ‘Bambi’ Artist Thwarted by Racial ...   \n",
       "  3           3  17286  Among Deaths in 2016, a Heavy Toll in Pop Musi...   \n",
       "  4           4  17287  Kim Jong-un Says North Korea Is Preparing to T...   \n",
       "\n",
       "        publication                         author        date    year  month  \\\n",
       "x 0  New York Times                     Carl Hulse  2016-12-31  2016.0   12.0   \n",
       "  1  New York Times  Benjamin Mueller and Al Baker  2017-06-19  2017.0    6.0   \n",
       "  2  New York Times                   Margalit Fox  2017-01-06  2017.0    1.0   \n",
       "  3  New York Times               William McDonald  2017-04-10  2017.0    4.0   \n",
       "  4  New York Times                  Choe Sang-Hun  2017-01-02  2017.0    1.0   \n",
       "\n",
       "     url                                            article  \n",
       "x 0  NaN  WASHINGTON  —   Congressional Republicans have...  \n",
       "  1  NaN  After the bullet shells get counted, the blood...  \n",
       "  2  NaN  When Walt Disney’s “Bambi” opened in 1942, cri...  \n",
       "  3  NaN  Death may be the great equalizer, but it isn’t...  \n",
       "  4  NaN  SEOUL, South Korea  —   North Korea’s leader, ...  "
      ]
     },
     "execution_count": 11,
     "metadata": {},
     "output_type": "execute_result"
    }
   ],
   "source": [
    "df.head()"
   ]
  },
  {
   "cell_type": "code",
   "execution_count": 12,
   "metadata": {
    "execution": {
     "iopub.execute_input": "2021-06-24T08:40:50.056027Z",
     "iopub.status.busy": "2021-06-24T08:40:50.055352Z",
     "iopub.status.idle": "2021-06-24T08:40:50.059684Z",
     "shell.execute_reply": "2021-06-24T08:40:50.058838Z",
     "shell.execute_reply.started": "2021-06-24T07:51:56.896191Z"
    },
    "papermill": {
     "duration": 0.026884,
     "end_time": "2021-06-24T08:40:50.059874",
     "exception": false,
     "start_time": "2021-06-24T08:40:50.032990",
     "status": "completed"
    },
    "tags": []
   },
   "outputs": [
    {
     "name": "stdout",
     "output_type": "stream",
     "text": [
      "The shape of the dataset :  (142570, 10)\n"
     ]
    }
   ],
   "source": [
    "# Shape of the dataset\n",
    "print (\"The shape of the dataset : \", df.shape)"
   ]
  },
  {
   "cell_type": "code",
   "execution_count": 13,
   "metadata": {
    "execution": {
     "iopub.execute_input": "2021-06-24T08:40:50.145648Z",
     "iopub.status.busy": "2021-06-24T08:40:50.119926Z",
     "iopub.status.idle": "2021-06-24T08:40:50.190054Z",
     "shell.execute_reply": "2021-06-24T08:40:50.189578Z",
     "shell.execute_reply.started": "2021-06-24T07:51:56.903322Z"
    },
    "papermill": {
     "duration": 0.110479,
     "end_time": "2021-06-24T08:40:50.190213",
     "exception": false,
     "start_time": "2021-06-24T08:40:50.079734",
     "status": "completed"
    },
    "tags": []
   },
   "outputs": [
    {
     "data": {
      "text/html": [
       "<div>\n",
       "<style scoped>\n",
       "    .dataframe tbody tr th:only-of-type {\n",
       "        vertical-align: middle;\n",
       "    }\n",
       "\n",
       "    .dataframe tbody tr th {\n",
       "        vertical-align: top;\n",
       "    }\n",
       "\n",
       "    .dataframe thead th {\n",
       "        text-align: right;\n",
       "    }\n",
       "</style>\n",
       "<table border=\"1\" class=\"dataframe\">\n",
       "  <thead>\n",
       "    <tr style=\"text-align: right;\">\n",
       "      <th></th>\n",
       "      <th></th>\n",
       "      <th>id</th>\n",
       "      <th>title</th>\n",
       "      <th>publication</th>\n",
       "      <th>author</th>\n",
       "      <th>date</th>\n",
       "      <th>year</th>\n",
       "      <th>month</th>\n",
       "      <th>url</th>\n",
       "      <th>article</th>\n",
       "    </tr>\n",
       "  </thead>\n",
       "  <tbody>\n",
       "    <tr>\n",
       "      <th rowspan=\"5\" valign=\"top\">x</th>\n",
       "      <th>0</th>\n",
       "      <td>17283</td>\n",
       "      <td>House Republicans Fret About Winning Their Hea...</td>\n",
       "      <td>New York Times</td>\n",
       "      <td>Carl Hulse</td>\n",
       "      <td>2016-12-31</td>\n",
       "      <td>2016.0</td>\n",
       "      <td>12.0</td>\n",
       "      <td>NaN</td>\n",
       "      <td>WASHINGTON  —   Congressional Republicans have...</td>\n",
       "    </tr>\n",
       "    <tr>\n",
       "      <th>1</th>\n",
       "      <td>17284</td>\n",
       "      <td>Rift Between Officers and Residents as Killing...</td>\n",
       "      <td>New York Times</td>\n",
       "      <td>Benjamin Mueller and Al Baker</td>\n",
       "      <td>2017-06-19</td>\n",
       "      <td>2017.0</td>\n",
       "      <td>6.0</td>\n",
       "      <td>NaN</td>\n",
       "      <td>After the bullet shells get counted, the blood...</td>\n",
       "    </tr>\n",
       "    <tr>\n",
       "      <th>2</th>\n",
       "      <td>17285</td>\n",
       "      <td>Tyrus Wong, ‘Bambi’ Artist Thwarted by Racial ...</td>\n",
       "      <td>New York Times</td>\n",
       "      <td>Margalit Fox</td>\n",
       "      <td>2017-01-06</td>\n",
       "      <td>2017.0</td>\n",
       "      <td>1.0</td>\n",
       "      <td>NaN</td>\n",
       "      <td>When Walt Disney’s “Bambi” opened in 1942, cri...</td>\n",
       "    </tr>\n",
       "    <tr>\n",
       "      <th>3</th>\n",
       "      <td>17286</td>\n",
       "      <td>Among Deaths in 2016, a Heavy Toll in Pop Musi...</td>\n",
       "      <td>New York Times</td>\n",
       "      <td>William McDonald</td>\n",
       "      <td>2017-04-10</td>\n",
       "      <td>2017.0</td>\n",
       "      <td>4.0</td>\n",
       "      <td>NaN</td>\n",
       "      <td>Death may be the great equalizer, but it isn’t...</td>\n",
       "    </tr>\n",
       "    <tr>\n",
       "      <th>4</th>\n",
       "      <td>17287</td>\n",
       "      <td>Kim Jong-un Says North Korea Is Preparing to T...</td>\n",
       "      <td>New York Times</td>\n",
       "      <td>Choe Sang-Hun</td>\n",
       "      <td>2017-01-02</td>\n",
       "      <td>2017.0</td>\n",
       "      <td>1.0</td>\n",
       "      <td>NaN</td>\n",
       "      <td>SEOUL, South Korea  —   North Korea’s leader, ...</td>\n",
       "    </tr>\n",
       "  </tbody>\n",
       "</table>\n",
       "</div>"
      ],
      "text/plain": [
       "        id                                              title     publication  \\\n",
       "x 0  17283  House Republicans Fret About Winning Their Hea...  New York Times   \n",
       "  1  17284  Rift Between Officers and Residents as Killing...  New York Times   \n",
       "  2  17285  Tyrus Wong, ‘Bambi’ Artist Thwarted by Racial ...  New York Times   \n",
       "  3  17286  Among Deaths in 2016, a Heavy Toll in Pop Musi...  New York Times   \n",
       "  4  17287  Kim Jong-un Says North Korea Is Preparing to T...  New York Times   \n",
       "\n",
       "                            author        date    year  month  url  \\\n",
       "x 0                     Carl Hulse  2016-12-31  2016.0   12.0  NaN   \n",
       "  1  Benjamin Mueller and Al Baker  2017-06-19  2017.0    6.0  NaN   \n",
       "  2                   Margalit Fox  2017-01-06  2017.0    1.0  NaN   \n",
       "  3               William McDonald  2017-04-10  2017.0    4.0  NaN   \n",
       "  4                  Choe Sang-Hun  2017-01-02  2017.0    1.0  NaN   \n",
       "\n",
       "                                               article  \n",
       "x 0  WASHINGTON  —   Congressional Republicans have...  \n",
       "  1  After the bullet shells get counted, the blood...  \n",
       "  2  When Walt Disney’s “Bambi” opened in 1942, cri...  \n",
       "  3  Death may be the great equalizer, but it isn’t...  \n",
       "  4  SEOUL, South Korea  —   North Korea’s leader, ...  "
      ]
     },
     "execution_count": 13,
     "metadata": {},
     "output_type": "execute_result"
    }
   ],
   "source": [
    "# Dropping the unnecessary columns\n",
    "df.drop(columns = ['Unnamed: 0'], inplace = True)\n",
    "df.head()"
   ]
  },
  {
   "cell_type": "code",
   "execution_count": 14,
   "metadata": {},
   "outputs": [
    {
     "data": {
      "text/plain": [
       "id               int64\n",
       "title           object\n",
       "publication     object\n",
       "author          object\n",
       "date            object\n",
       "year           float64\n",
       "month          float64\n",
       "url             object\n",
       "article         object\n",
       "dtype: object"
      ]
     },
     "execution_count": 14,
     "metadata": {},
     "output_type": "execute_result"
    }
   ],
   "source": [
    "df.dtypes"
   ]
  },
  {
   "cell_type": "code",
   "execution_count": 15,
   "metadata": {},
   "outputs": [
    {
     "data": {
      "text/plain": [
       "[Text(0.5, 0, 'Publication'),\n",
       " Text(0, 0.5, 'Count'),\n",
       " Text(0.5, 1.0, 'Distribution of Publication according')]"
      ]
     },
     "execution_count": 15,
     "metadata": {},
     "output_type": "execute_result"
    },
    {
     "data": {
      "image/png": "[encoded data removed]",
      "text/plain": [
       "<Figure size 1080x576 with 1 Axes>"
      ]
     },
     "metadata": {},
     "output_type": "display_data"
    }
   ],
   "source": [
    "plt.rcParams['figure.figsize'] = [15, 8]\n",
    "sns.set(font_scale=1.2, style='darkgrid')\n",
    "sns_year = sns.countplot(data=df, x='publication', color='darkcyan')\n",
    "plt.xticks(rotation=45)\n",
    "sns_year.set(xlabel=\"Publication\", ylabel=\"Count\", title=\"Distribution of Publication according\")\n"
   ]
  },
  {
   "cell_type": "markdown",
   "metadata": {
    "papermill": {
     "duration": 0.02101,
     "end_time": "2021-06-24T08:40:50.761957",
     "exception": false,
     "start_time": "2021-06-24T08:40:50.740947",
     "status": "completed"
    },
    "tags": []
   },
   "source": [
    "# 2 Exploratory Data Analysis"
   ]
  },
  {
   "cell_type": "code",
   "execution_count": 16,
   "metadata": {
    "execution": {
     "iopub.execute_input": "2021-06-24T08:40:50.810146Z",
     "iopub.status.busy": "2021-06-24T08:40:50.809208Z",
     "iopub.status.idle": "2021-06-24T08:40:50.812871Z",
     "shell.execute_reply": "2021-06-24T08:40:50.813437Z",
     "shell.execute_reply.started": "2021-06-24T07:51:56.998181Z"
    },
    "papermill": {
     "duration": 0.030315,
     "end_time": "2021-06-24T08:40:50.813615",
     "exception": false,
     "start_time": "2021-06-24T08:40:50.783300",
     "status": "completed"
    },
    "tags": []
   },
   "outputs": [],
   "source": [
    "# Replacing the unnecessary row value of year with it's actual values\n",
    "df['year'] = df['year'].replace(\"https://www.washingtonpost.com/outlook/tale-of-a-woman-who-died-and-a-woman-who-killed-in-the-northern-ireland-conflict/2019/03/08/59e75dd4-2ecd-11e9-8ad3-9a5b113ecd3c_story.html\", 2019)"
   ]
  },
  {
   "cell_type": "code",
   "execution_count": 17,
   "metadata": {
    "execution": {
     "iopub.execute_input": "2021-06-24T08:40:50.863404Z",
     "iopub.status.busy": "2021-06-24T08:40:50.862758Z",
     "iopub.status.idle": "2021-06-24T08:40:50.871782Z",
     "shell.execute_reply": "2021-06-24T08:40:50.872236Z",
     "shell.execute_reply.started": "2021-06-24T07:51:57.007467Z"
    },
    "papermill": {
     "duration": 0.037073,
     "end_time": "2021-06-24T08:40:50.872410",
     "exception": false,
     "start_time": "2021-06-24T08:40:50.835337",
     "status": "completed"
    },
    "tags": []
   },
   "outputs": [
    {
     "data": {
      "text/plain": [
       "2016.0    85405\n",
       "2017.0    50404\n",
       "2015.0     3705\n",
       "2013.0      228\n",
       "2014.0      125\n",
       "2012.0       34\n",
       "2011.0        8\n",
       "2010.0        6\n",
       "2008.0        3\n",
       "2009.0        3\n",
       "2004.0        2\n",
       "2003.0        2\n",
       "2005.0        2\n",
       "2007.0        1\n",
       "2000.0        1\n",
       "Name: year, dtype: int64"
      ]
     },
     "execution_count": 17,
     "metadata": {},
     "output_type": "execute_result"
    }
   ],
   "source": [
    "# Years\n",
    "df['year'].value_counts()"
   ]
  },
  {
   "cell_type": "code",
   "execution_count": 18,
   "metadata": {
    "execution": {
     "iopub.execute_input": "2021-06-24T08:40:50.922900Z",
     "iopub.status.busy": "2021-06-24T08:40:50.922258Z",
     "iopub.status.idle": "2021-06-24T08:40:51.248193Z",
     "shell.execute_reply": "2021-06-24T08:40:51.248754Z",
     "shell.execute_reply.started": "2021-06-24T07:51:57.027416Z"
    },
    "papermill": {
     "duration": 0.354861,
     "end_time": "2021-06-24T08:40:51.248945",
     "exception": false,
     "start_time": "2021-06-24T08:40:50.894084",
     "status": "completed"
    },
    "tags": []
   },
   "outputs": [
    {
     "data": {
      "text/plain": [
       "[Text(0.5, 0, 'Year'),\n",
       " Text(0, 0.5, 'Count'),\n",
       " Text(0.5, 1.0, 'Distribution of the articles according to the year')]"
      ]
     },
     "execution_count": 18,
     "metadata": {},
     "output_type": "execute_result"
    },
    {
     "data": {
      "image/png": "[encoded data removed]",
      "text/plain": [
       "<Figure size 1080x576 with 1 Axes>"
      ]
     },
     "metadata": {},
     "output_type": "display_data"
    }
   ],
   "source": [
    "# Countplot shows the distribution of the articles according to the year\n",
    "plt.rcParams['figure.figsize'] = [15, 8]\n",
    "sns.set(font_scale = 1.2, style = 'whitegrid')\n",
    "sns_year = sns.countplot(data=df, x='year', color='darkcyan')\n",
    "sns_year.set(xlabel = \"Year\", ylabel = \"Count\", title = \"Distribution of the articles according to the year\")"
   ]
  },
  {
   "cell_type": "code",
   "execution_count": 19,
   "metadata": {
    "execution": {
     "iopub.execute_input": "2021-06-24T08:40:51.335770Z",
     "iopub.status.busy": "2021-06-24T08:40:51.334287Z",
     "iopub.status.idle": "2021-06-24T08:40:51.347648Z",
     "shell.execute_reply": "2021-06-24T08:40:51.346954Z",
     "shell.execute_reply.started": "2021-06-24T07:51:57.400069Z"
    },
    "papermill": {
     "duration": 0.075438,
     "end_time": "2021-06-24T08:40:51.347793",
     "exception": false,
     "start_time": "2021-06-24T08:40:51.272355",
     "status": "completed"
    },
    "tags": []
   },
   "outputs": [
    {
     "data": {
      "text/plain": [
       "Breitbart News                                         1559\n",
       "Pam Key                                                1282\n",
       "Associated Press                                       1231\n",
       "Charlie Spiering                                        928\n",
       "Jerome Hudson                                           806\n",
       "                                                       ... \n",
       "Laura Italiano, Sophia Rosenbaum and Philip Messing       1\n",
       "Larry Celona, C.J. Sullivan and Daniel Prendergast        1\n",
       "Krit McClean                                              1\n",
       "Melissa Klein and Joe Tacopino                            1\n",
       "John Yearwood                                             1\n",
       "Name: author, Length: 15647, dtype: int64"
      ]
     },
     "execution_count": 19,
     "metadata": {},
     "output_type": "execute_result"
    }
   ],
   "source": [
    "# Authors\n",
    "df['author'].value_counts()"
   ]
  },
  {
   "cell_type": "code",
   "execution_count": 20,
   "metadata": {},
   "outputs": [
    {
     "data": {
      "text/plain": [
       "Text(0.5, 1.0, 'The Most Frequent Authors')"
      ]
     },
     "execution_count": 20,
     "metadata": {},
     "output_type": "execute_result"
    },
    {
     "data": {
      "image/png": "[encoded data removed]",
      "text/plain": [
       "<Figure size 1080x1080 with 1 Axes>"
      ]
     },
     "metadata": {},
     "output_type": "display_data"
    }
   ],
   "source": [
    "plt.rcParams['figure.figsize'] = [15, 15]\n",
    "sns.set(font_scale=1, style='whitegrid')\n",
    "df_author = df['author'].value_counts().head(80)\n",
    "\n",
    "sns.barplot(x=df_author.index, y=df_author, palette='viridis')\n",
    "plt.xlabel(\"Author\")\n",
    "plt.ylabel(\"Count\")\n",
    "plt.title(\"The Most Frequent Authors\")\n"
   ]
  },
  {
   "cell_type": "code",
   "execution_count": 21,
   "metadata": {
    "execution": {
     "iopub.execute_input": "2021-06-24T08:40:53.400257Z",
     "iopub.status.busy": "2021-06-24T08:40:53.399374Z",
     "iopub.status.idle": "2021-06-24T08:40:53.405428Z",
     "shell.execute_reply": "2021-06-24T08:40:53.404854Z",
     "shell.execute_reply.started": "2021-06-24T07:51:57.453183Z"
    },
    "papermill": {
     "duration": 0.04342,
     "end_time": "2021-06-24T08:40:53.405572",
     "exception": false,
     "start_time": "2021-06-24T08:40:53.362152",
     "status": "completed"
    },
    "tags": []
   },
   "outputs": [],
   "source": [
    "# Changing the value \"The Associated Press\" to \"Associated Press\"\n",
    "df['author'] = df['author'].replace(\"The Associated Press\", \"Associated Press\")"
   ]
  },
  {
   "cell_type": "markdown",
   "metadata": {
    "papermill": {
     "duration": 0.027362,
     "end_time": "2021-06-24T08:40:53.460892",
     "exception": false,
     "start_time": "2021-06-24T08:40:53.433530",
     "status": "completed"
    },
    "tags": []
   },
   "source": [
    "# 3 Making the Article Summarizer"
   ]
  },
  {
   "cell_type": "code",
   "execution_count": 22,
   "metadata": {
    "execution": {
     "iopub.execute_input": "2021-06-24T08:40:53.576798Z",
     "iopub.status.busy": "2021-06-24T08:40:53.554226Z",
     "iopub.status.idle": "2021-06-24T08:40:53.579762Z",
     "shell.execute_reply": "2021-06-24T08:40:53.579098Z",
     "shell.execute_reply.started": "2021-06-24T07:51:57.470472Z"
    },
    "papermill": {
     "duration": 0.091071,
     "end_time": "2021-06-24T08:40:53.579914",
     "exception": false,
     "start_time": "2021-06-24T08:40:53.488843",
     "status": "completed"
    },
    "tags": []
   },
   "outputs": [],
   "source": [
    "contractions_dict = { \n",
    "\"ain't\": \"am not\",\n",
    "\"aren't\": \"are not\",\n",
    "\"can't\": \"cannot\",\n",
    "\"can't've\": \"cannot have\",\n",
    "\"'cause\": \"because\",\n",
    "\"could've\": \"could have\",\n",
    "\"couldn't\": \"could not\",\n",
    "\"couldn't've\": \"could not have\",\n",
    "\"didn't\": \"did not\",\n",
    "\"doesn't\": \"does not\",\n",
    "\"doesn’t\": \"does not\",\n",
    "\"don't\": \"do not\",\n",
    "\"don’t\": \"do not\",\n",
    "\"hadn't\": \"had not\",\n",
    "\"hadn't've\": \"had not have\",\n",
    "\"hasn't\": \"has not\",\n",
    "\"haven't\": \"have not\",\n",
    "\"he'd\": \"he had\",\n",
    "\"he'd've\": \"he would have\",\n",
    "\"he'll\": \"he will\",\n",
    "\"he'll've\": \"he will have\",\n",
    "\"he's\": \"he is\",\n",
    "\"how'd\": \"how did\",\n",
    "\"how'd'y\": \"how do you\",\n",
    "\"how'll\": \"how will\",\n",
    "\"how's\": \"how is\",\n",
    "\"i'd\": \"i would\",\n",
    "\"i'd've\": \"i would have\",\n",
    "\"i'll\": \"i will\",\n",
    "\"i'll've\": \"i will have\",\n",
    "\"i'm\": \"i am\",\n",
    "\"i've\": \"i have\",\n",
    "\"isn't\": \"is not\",\n",
    "\"it'd\": \"it would\",\n",
    "\"it'd've\": \"it would have\",\n",
    "\"it'll\": \"it will\",\n",
    "\"it'll've\": \"it will have\",\n",
    "\"it's\": \"it is\",\n",
    "\"let's\": \"let us\",\n",
    "\"ma'am\": \"madam\",\n",
    "\"mayn't\": \"may not\",\n",
    "\"might've\": \"might have\",\n",
    "\"mightn't\": \"might not\",\n",
    "\"mightn't've\": \"might not have\",\n",
    "\"must've\": \"must have\",\n",
    "\"mustn't\": \"must not\",\n",
    "\"mustn't've\": \"must not have\",\n",
    "\"needn't\": \"need not\",\n",
    "\"needn't've\": \"need not have\",\n",
    "\"o'clock\": \"of the clock\",\n",
    "\"oughtn't\": \"ought not\",\n",
    "\"oughtn't've\": \"ought not have\",\n",
    "\"shan't\": \"shall not\",\n",
    "\"sha'n't\": \"shall not\",\n",
    "\"shan't've\": \"shall not have\",\n",
    "\"she'd\": \"she would\",\n",
    "\"she'd've\": \"she would have\",\n",
    "\"she'll\": \"she will\",\n",
    "\"she'll've\": \"she will have\",\n",
    "\"she's\": \"she is\",\n",
    "\"should've\": \"should have\",\n",
    "\"shouldn't\": \"should not\",\n",
    "\"shouldn't've\": \"should not have\",\n",
    "\"so've\": \"so have\",\n",
    "\"so's\": \"so is\",\n",
    "\"that'd\": \"that would\",\n",
    "\"that'd've\": \"that would have\",\n",
    "\"that's\": \"that is\",\n",
    "\"there'd\": \"there would\",\n",
    "\"there'd've\": \"there would have\",\n",
    "\"there's\": \"there is\",\n",
    "\"they'd\": \"they would\",\n",
    "\"they'd've\": \"they would have\",\n",
    "\"they'll\": \"they will\",\n",
    "\"they'll've\": \"they will have\",\n",
    "\"they're\": \"they are\",\n",
    "\"they've\": \"they have\",\n",
    "\"to've\": \"to have\",\n",
    "\"wasn't\": \"was not\",\n",
    "\"we'd\": \"we would\",\n",
    "\"we'd've\": \"we would have\",\n",
    "\"we'll\": \"we will\",\n",
    "\"we'll've\": \"we will have\",\n",
    "\"we're\": \"we are\",\n",
    "\"we've\": \"we have\",\n",
    "\"weren't\": \"were not\",\n",
    "\"what'll\": \"what will\",\n",
    "\"what'll've\": \"what will have\",\n",
    "\"what're\": \"what are\",\n",
    "\"what's\": \"what is\",\n",
    "\"what've\": \"what have\",\n",
    "\"when's\": \"when is\",\n",
    "\"when've\": \"when have\",\n",
    "\"where'd\": \"where did\",\n",
    "\"where's\": \"where is\",\n",
    "\"where've\": \"where have\",\n",
    "\"who'll\": \"who will\",\n",
    "\"who'll've\": \"who will have\",\n",
    "\"who's\": \"who is\",\n",
    "\"who've\": \"who have\",\n",
    "\"why's\": \"why is\",\n",
    "\"why've\": \"why have\",\n",
    "\"will've\": \"will have\",\n",
    "\"won't\": \"will not\",\n",
    "\"won't've\": \"will not have\",\n",
    "\"would've\": \"would have\",\n",
    "\"wouldn't\": \"would not\",\n",
    "\"wouldn't've\": \"would not have\",\n",
    "\"y'all\": \"you all\",\n",
    "\"y’all\": \"you all\",\n",
    "\"y'all'd\": \"you all would\",\n",
    "\"y'all'd've\": \"you all would have\",\n",
    "\"y'all're\": \"you all are\",\n",
    "\"y'all've\": \"you all have\",\n",
    "\"you'd\": \"you would\",\n",
    "\"you'd've\": \"you would have\",\n",
    "\"you'll\": \"you will\",\n",
    "\"you'll've\": \"you will have\",\n",
    "\"you're\": \"you are\",\n",
    "\"you've\": \"you have\",\n",
    "\"ain’t\": \"am not\",\n",
    "\"aren’t\": \"are not\",\n",
    "\"can’t\": \"cannot\",\n",
    "\"can’t’ve\": \"cannot have\",\n",
    "\"’cause\": \"because\",\n",
    "\"could’ve\": \"could have\",\n",
    "\"couldn’t\": \"could not\",\n",
    "\"couldn’t’ve\": \"could not have\",\n",
    "\"didn’t\": \"did not\",\n",
    "\"doesn’t\": \"does not\",\n",
    "\"don’t\": \"do not\",\n",
    "\"don’t\": \"do not\",\n",
    "\"hadn’t\": \"had not\",\n",
    "\"hadn’t’ve\": \"had not have\",\n",
    "\"hasn’t\": \"has not\",\n",
    "\"haven’t\": \"have not\",\n",
    "\"he’d\": \"he had\",\n",
    "\"he’d’ve\": \"he would have\",\n",
    "\"he’ll\": \"he will\",\n",
    "\"he’ll’ve\": \"he will have\",\n",
    "\"he’s\": \"he is\",\n",
    "\"how’d\": \"how did\",\n",
    "\"how’d’y\": \"how do you\",\n",
    "\"how’ll\": \"how will\",\n",
    "\"how’s\": \"how is\",\n",
    "\"i’d\": \"i would\",\n",
    "\"i’d’ve\": \"i would have\",\n",
    "\"i’ll\": \"i will\",\n",
    "\"i’ll’ve\": \"i will have\",\n",
    "\"i’m\": \"i am\",\n",
    "\"i’ve\": \"i have\",\n",
    "\"isn’t\": \"is not\",\n",
    "\"it’d\": \"it would\",\n",
    "\"it’d’ve\": \"it would have\",\n",
    "\"it’ll\": \"it will\",\n",
    "\"it’ll’ve\": \"it will have\",\n",
    "\"it’s\": \"it is\",\n",
    "\"let’s\": \"let us\",\n",
    "\"ma’am\": \"madam\",\n",
    "\"mayn’t\": \"may not\",\n",
    "\"might’ve\": \"might have\",\n",
    "\"mightn’t\": \"might not\",\n",
    "\"mightn’t’ve\": \"might not have\",\n",
    "\"must’ve\": \"must have\",\n",
    "\"mustn’t\": \"must not\",\n",
    "\"mustn’t’ve\": \"must not have\",\n",
    "\"needn’t\": \"need not\",\n",
    "\"needn’t’ve\": \"need not have\",\n",
    "\"o’clock\": \"of the clock\",\n",
    "\"oughtn’t\": \"ought not\",\n",
    "\"oughtn’t’ve\": \"ought not have\",\n",
    "\"shan’t\": \"shall not\",\n",
    "\"sha’n’t\": \"shall not\",\n",
    "\"shan’t’ve\": \"shall not have\",\n",
    "\"she’d\": \"she would\",\n",
    "\"she’d’ve\": \"she would have\",\n",
    "\"she’ll\": \"she will\",\n",
    "\"she’ll’ve\": \"she will have\",\n",
    "\"she’s\": \"she is\",\n",
    "\"should’ve\": \"should have\",\n",
    "\"shouldn’t\": \"should not\",\n",
    "\"shouldn’t’ve\": \"should not have\",\n",
    "\"so’ve\": \"so have\",\n",
    "\"so’s\": \"so is\",\n",
    "\"that’d\": \"that would\",\n",
    "\"that’d’ve\": \"that would have\",\n",
    "\"that’s\": \"that is\",\n",
    "\"there’d\": \"there would\",\n",
    "\"there’d’ve\": \"there would have\",\n",
    "\"there’s\": \"there is\",\n",
    "\"they’d\": \"they would\",\n",
    "\"they’d’ve\": \"they would have\",\n",
    "\"they’ll\": \"they will\",\n",
    "\"they’ll’ve\": \"they will have\",\n",
    "\"they’re\": \"they are\",\n",
    "\"they’ve\": \"they have\",\n",
    "\"to’ve\": \"to have\",\n",
    "\"wasn’t\": \"was not\",\n",
    "\"we’d\": \"we would\",\n",
    "\"we’d’ve\": \"we would have\",\n",
    "\"we’ll\": \"we will\",\n",
    "\"we’ll’ve\": \"we will have\",\n",
    "\"we’re\": \"we are\",\n",
    "\"we’ve\": \"we have\",\n",
    "\"weren’t\": \"were not\",\n",
    "\"what’ll\": \"what will\",\n",
    "\"what’ll’ve\": \"what will have\",\n",
    "\"what’re\": \"what are\",\n",
    "\"what’s\": \"what is\",\n",
    "\"what’ve\": \"what have\",\n",
    "\"when’s\": \"when is\",\n",
    "\"when’ve\": \"when have\",\n",
    "\"where’d\": \"where did\",\n",
    "\"where’s\": \"where is\",\n",
    "\"where’ve\": \"where have\",\n",
    "\"who’ll\": \"who will\",\n",
    "\"who’ll’ve\": \"who will have\",\n",
    "\"who’s\": \"who is\",\n",
    "\"who’ve\": \"who have\",\n",
    "\"why’s\": \"why is\",\n",
    "\"why’ve\": \"why have\",\n",
    "\"will’ve\": \"will have\",\n",
    "\"won’t\": \"will not\",\n",
    "\"won’t’ve\": \"will not have\",\n",
    "\"would’ve\": \"would have\",\n",
    "\"wouldn’t\": \"would not\",\n",
    "\"wouldn’t’ve\": \"would not have\",\n",
    "\"y’all\": \"you all\",\n",
    "\"y’all\": \"you all\",\n",
    "\"y’all’d\": \"you all would\",\n",
    "\"y’all’d’ve\": \"you all would have\",\n",
    "\"y’all’re\": \"you all are\",\n",
    "\"y’all’ve\": \"you all have\",\n",
    "\"you’d\": \"you would\",\n",
    "\"you’d’ve\": \"you would have\",\n",
    "\"you’ll\": \"you will\",\n",
    "\"you’ll’ve\": \"you will have\",\n",
    "\"you’re\": \"you are\",\n",
    "\"you’re\": \"you are\",\n",
    "\"you’ve\": \"you have\",\n",
    "}\n",
    "contractions_re = re.compile('(%s)' % '|'.join(contractions_dict.keys()))\n",
    "# Function to clean the html from the article\n",
    "def cleanhtml(raw_html):\n",
    "    cleanr = re.compile('<.*?>')\n",
    "    cleantext = re.sub(cleanr, '', raw_html)\n",
    "    return cleantext\n",
    "\n",
    "# Function expand the contractions if there's any\n",
    "def expand_contractions(s, contractions_dict=contractions_dict):\n",
    "    def replace(match):\n",
    "        return contractions_dict[match.group(0)]\n",
    "    return contractions_re.sub(replace, s)\n",
    "\n",
    "# Function to preprocess the articles\n",
    "def preprocessing(article):\n",
    "    global article_sent\n",
    "    \n",
    "    # Converting to lowercase\n",
    "    article = article.str.lower()\n",
    "    \n",
    "    # Removing the HTML\n",
    "    article = article.apply(lambda x: cleanhtml(x))\n",
    "    \n",
    "    # Removing the email ids\n",
    "    article = article.apply(lambda x: re.sub('\\S+@\\S+','', x))\n",
    "    \n",
    "    # Removing The URLS\n",
    "    article = article.apply(lambda x: re.sub(\"((http\\://|https\\://|ftp\\://)|(www.))+(([a-zA-Z0-9\\.-]+\\.[a-zA-Z]{2,4})|([0-9]{1,3}\\.[0-9]{1,3}\\.[0-9]{1,3}\\.[0-9]{1,3}))(/[a-zA-Z0-9%:/-_\\?\\.'~]*)?\",'', x))\n",
    "    \n",
    "    # Removing the '\\xa0'\n",
    "    article = article.apply(lambda x: x.replace(\"\\xa0\", \" \"))\n",
    "    \n",
    "    # Removing the contractions\n",
    "    article = article.apply(lambda x: expand_contractions(x))\n",
    "    \n",
    "    # Stripping the possessives\n",
    "    article = article.apply(lambda x: x.replace(\"'s\", ''))\n",
    "    article = article.apply(lambda x: x.replace('’s', ''))\n",
    "    article = article.apply(lambda x: x.replace(\"\\'s\", ''))\n",
    "    article = article.apply(lambda x: x.replace(\"\\’s\", ''))\n",
    "    \n",
    "    # Removing the Trailing and leading whitespace and double spaces\n",
    "    article = article.apply(lambda x: re.sub(' +', ' ',x))\n",
    "    \n",
    "    # Copying the article for the sentence tokenization\n",
    "    article_sent = article.copy()\n",
    "    \n",
    "    # Removing punctuations from the article\n",
    "    article = article.apply(lambda x: ''.join(word for word in x if word not in punctuation))\n",
    "    \n",
    "    # Removing the Trailing and leading whitespace and double spaces again as removing punctuation might\n",
    "    # Lead to a white space\n",
    "    article = article.apply(lambda x: re.sub(' +', ' ',x))\n",
    "    \n",
    "    # Removing the Stopwords\n",
    "    article = article.apply(lambda x: ' '.join(word for word in x.split() if word not in stop_words))\n",
    "    \n",
    "    return article\n",
    "\n",
    "# Function to normalize the word frequency which is used in the function word_frequency\n",
    "def normalize(li_word):\n",
    "    global normalized_freq\n",
    "    normalized_freq = []\n",
    "    for dictionary in li_word:\n",
    "        max_frequency = max(dictionary.values())\n",
    "        for word in dictionary.keys():\n",
    "            dictionary[word] = dictionary[word]/max_frequency\n",
    "        normalized_freq.append(dictionary)\n",
    "    return normalized_freq\n",
    "\n",
    "# Function to calculate the word frequency\n",
    "def word_frequency(article_word):\n",
    "    word_frequency = {}\n",
    "    li_word = []\n",
    "    for sentence in article_word:\n",
    "        for word in word_tokenize(sentence):\n",
    "            if word not in word_frequency.keys():\n",
    "                word_frequency[word] = 1\n",
    "            else:\n",
    "                word_frequency[word] += 1\n",
    "        li_word.append(word_frequency)\n",
    "        word_frequency = {}\n",
    "    normalize(li_word)\n",
    "    return normalized_freq\n",
    "\n",
    "# Function to Score the sentence which is called in the function sent_token\n",
    "def sentence_score(li):\n",
    "    global sentence_score_list\n",
    "    sentence_score = {}\n",
    "    sentence_score_list = []\n",
    "    for list_, dictionary in zip(li, normalized_freq):\n",
    "        for sent in list_:\n",
    "            for word in word_tokenize(sent):\n",
    "                if word in dictionary.keys():\n",
    "                    if sent not in sentence_score.keys():\n",
    "                        sentence_score[sent] = dictionary[word]\n",
    "                    else:\n",
    "                        sentence_score[sent] += dictionary[word]\n",
    "        sentence_score_list.append(sentence_score)\n",
    "        sentence_score = {}\n",
    "    return sentence_score_list\n",
    "\n",
    "# Function to tokenize the sentence\n",
    "def sent_token(article_sent):\n",
    "    sentence_list = []\n",
    "    sent_token = []\n",
    "    for sent in article_sent:\n",
    "        token = sent_tokenize(sent)\n",
    "        for sentence in token:\n",
    "            token_2 = ''.join(word for word in sentence if word not in punctuation)\n",
    "            token_2 = re.sub(' +', ' ',token_2)\n",
    "            sent_token.append(token_2)\n",
    "        sentence_list.append(sent_token)\n",
    "        sent_token = []\n",
    "    sentence_score(sentence_list)\n",
    "    return sentence_score_list\n",
    "\n",
    "# Function which generates the summary of the articles (This uses the 20% of the sentences with the highest score)\n",
    "def summary(sentence_score_OwO):\n",
    "    summary_list = []\n",
    "    for summ in sentence_score_OwO:\n",
    "        select_length = int(len(summ)*0.25)\n",
    "        summary_ = nlargest(select_length, summ, key = summ.get)\n",
    "        summary_list.append(\".\".join(summary_))\n",
    "    return summary_list\n",
    "\n",
    "\n",
    "# Functions to change the article string (if passed) to change it to generate a pandas series\n",
    "def make_series(art):\n",
    "    global dataframe\n",
    "    data_dict = {'article' : [art]}\n",
    "    dataframe = pd.DataFrame(data_dict)['article']\n",
    "    return dataframe\n",
    "\n",
    "# Function which is to be called to generate the summary which in further calls other functions alltogether\n",
    "def article_summarize(artefact):\n",
    "    \n",
    "    if type(artefact) != pd.Series:\n",
    "        artefact = make_series(artefact)\n",
    "    \n",
    "    df = preprocessing(artefact)\n",
    "    \n",
    "    word_normalization = word_frequency(df)\n",
    "    \n",
    "    sentence_score_OwO = sent_token(article_sent)\n",
    "    \n",
    "    summarized_article = summary(sentence_score_OwO)\n",
    "    \n",
    "    return summarized_article"
   ]
  },
  {
   "cell_type": "code",
   "execution_count": 28,
   "metadata": {
    "execution": {
     "iopub.execute_input": "2021-06-24T08:40:53.722992Z",
     "iopub.status.busy": "2021-06-24T08:40:53.681333Z",
     "iopub.status.idle": "2021-06-24T08:40:57.433266Z",
     "shell.execute_reply": "2021-06-24T08:40:57.432708Z",
     "shell.execute_reply.started": "2021-06-24T07:51:57.533960Z"
    },
    "papermill": {
     "duration": 3.826122,
     "end_time": "2021-06-24T08:40:57.433432",
     "exception": false,
     "start_time": "2021-06-24T08:40:53.607310",
     "status": "completed"
    },
    "tags": []
   },
   "outputs": [],
   "source": [
    "# Generating the Word Cloud of the article using the preprocessing and make_series function mentioned below\n",
    "def word_cloud(art):\n",
    "    art_ = make_series(art)\n",
    "    OwO = preprocessing(art_)\n",
    "    wordcloud_ = WordCloud(height = 500, width = 1000, background_color = 'white').generate(art)\n",
    "    plt.figure(figsize=(15, 10))\n",
    "    plt.imshow(wordcloud_, interpolation='bilinear')\n",
    "    plt.axis('off');\n",
    "# Generating the summaries for the first 100 articles\n",
    "summaries = article_summarize(df['article'][0:100])"
   ]
  },
  {
   "cell_type": "code",
   "execution_count": 24,
   "metadata": {
    "execution": {
     "iopub.execute_input": "2021-06-24T08:40:57.494771Z",
     "iopub.status.busy": "2021-06-24T08:40:57.494008Z",
     "iopub.status.idle": "2021-06-24T08:40:57.499697Z",
     "shell.execute_reply": "2021-06-24T08:40:57.499108Z",
     "shell.execute_reply.started": "2021-06-24T07:52:01.248287Z"
    },
    "papermill": {
     "duration": 0.038749,
     "end_time": "2021-06-24T08:40:57.499847",
     "exception": false,
     "start_time": "2021-06-24T08:40:57.461098",
     "status": "completed"
    },
    "tags": []
   },
   "outputs": [
    {
     "name": "stdout",
     "output_type": "stream",
     "text": [
      "The Actual length of the article is :  27834\n"
     ]
    },
    {
     "data": {
      "text/plain": [
       "'After the bullet shells get counted, the blood dries and the votive candles burn out, people peer down from   windows and see crime scenes gone cold: a band of yellow police tape blowing in the breeze. The South Bronx, just across the Harlem River from Manhattan and once shorthand for urban dysfunction, still suffers violence at levels long ago slashed in many other parts of New York City. And yet the city’s efforts to fight it remain splintered, underfunded and burdened by scandal. In the 40th Precinct, at the southern tip of the Bronx, as in other poor, minority neighborhoods across the country, people long hounded for   infractions are crying out for more protection against grievous injury or death. By September, four of every five shootings in the precinct this year were unsolved. Out of the city’s 77 precincts, the 40th has the highest murder rate but the fewest detectives per violent crime, reflecting disparities in staffing that hit hardest in some neighborhoods outside Manhattan, according to a New York Times analysis of Police Department data. Investigators in the precinct are saddled with twice the number of cases the department recommends, even as their bosses are called to Police Headquarters to answer for the sharpest crime rise in the city this year. And across the Bronx, investigative resources are squeezed. It has the highest   rate of the city’s five boroughs but the thinnest detective staffing. Nine of the 14   precinct detective squads for violent crime in the city are there. The borough’s robbery squad is smaller than Manhattan’s, even though the Bronx has had 1, 300 more cases this year. And its homicide squad has one detective for every four murders, compared with one detective for roughly every two murders in Upper Manhattan and more than one detective per murder in Lower Manhattan. In   lobbies and   family apartments, outside methadone clinics and art studios, people take note of the inequity. They hear police commanders explain that they lack the resources to place a floodlight on a dangerous block or to post officers at a   corner. They watch witnesses cower behind   doors, more fearful of a gunman’s crew than confident in the Police Department’s ability to protect them. So though people see a lot, they rarely testify. And in the South Bronx, as in so many predominantly black and Hispanic neighborhoods like it in the United States, the contract between the police and the community is in tatters. Some people have stories of crime reports that were ignored, or 911 calls that went unanswered for hours. Others tell of a 911 call for help ending in the caller’s arrest, or of a minor charge leading to 12 hours in a fetid holding cell. This is the paradox of policing in the 40th Precinct. Its neighborhoods have historically been prime targets for aggressive tactics, like    that are designed to ward off disorder. But precinct detectives there have less time than anywhere else in the city to answer for the blood spilled in violent crimes. Gola White, who was beside her daughter when she was shot and killed in a playground this summer, four years after her son was gunned down in the same housing project, ticked off the public safety resources that she said were scant in Bronx neighborhoods like hers: security cameras, lights, locks, investigating police officers. “Here, we have nothing,” she said. When it comes to “  families,” she said, the authorities “don’t really care as much. That’s how I feel. ” The Times has been documenting the murders logged this year in the 40th Precinct, one of a handful of neighborhoods where deadly violence remains a problem in an era of   crime in New York City. The homicides  —   14 in the precinct this year, up from nine in 2015  —   strain detectives, and when they go unsolved, as half of them have this year, some look to take the law into their own hands. From hundreds of conversations with grieving relatives and friends, witnesses and police officers, the social forces that flare into murder in a place like the 40th Precinct become clearer: merciless gang codes, mental illness, drugs and long memories of feuds that simmered out of officers’ view. The reasons some murders will never be solved also emerge: paralyzing fear of retribution, victims carrying secrets to their graves and relentless casework that forces detectives to move on in hopes that a break will come later. Frustrations build on all sides. Detectives’ phones rarely ring with tips, and officers grow embittered with witnesses who will not cooperate. In the meantime, a victim’s friends conduct their own investigations, and talk of grabbing a stash gun from a wheel well or a mother’s apartment when they find their suspect. In the chasm between the police and the community, gangs and gun violence flourish. Parents try to protect their families from drug crews’ threats, and officers work to overcome the residue of years of mistrust and understaffing in communities where they still go racing from one 911 call to the next. The streets around St. Mary’s Park were the scene of two fatal shootings logged in the 40th Precinct this year. Both are unsolved. James Fernandez heard talk of the murders through the door of his   apartment on East 146th Street in a     the Betances Houses. He lived at the end of a long hallway strewn with hypodermic needles, empty dope bags and discarded Hennessy bottles. A   young men who spoke of being in a subset of the Bloods gang had made it their drug market, slinging marijuana and cocaine to regulars, flashing firearms and blowing smoke into the Fernandez apartment. When Mr. Fernandez, 40, asked the young men to move, they answered by busting up his car. This kind of crime, an anachronism in much of New York, still rattles the 40th Precinct, even though murders there have fallen to 14 this year from 83 in 1991. It has more major felony crimes per resident than any other residential district in the city. It is also one of the poorest communities in the country, and many young men find their way into underground markets. Mr. Fernandez was not one to shrink from the threats. When he was growing up on the Lower East Side, he rode his bicycle around to the customers of the drug dealers he worked for and collected payments in a backpack. After leaving that life, he got a tech maintenance job and, three years ago, moved into the Betances Houses with his wife and daughter, now 11. He had two choices to get help with the drug crew: call the police for help and risk being labeled a snitch, or call his old Lower East Side bosses for muscle and risk violence. He chose the police. Again and again, he walked into a local substation, Police Service Area 7, and asked for protection. His daughter was using an inhaler to relieve coughs from the marijuana smoke. Mr. Fernandez and his wife got terrible headaches. “There’s a lot of killers here, and we are going to kill you,” a sergeant’s police report quoted a    telling Mr. Fernandez in August 2015. A second report filed the same day said a    warned him, “I’m going to shoot through your window. ” Mr. Fernandez told the police both the teenagers’ names, which appear in the reports, and then went home. He said one of their friends had seen him walk into the substation, and they tried to intimidate him out of filing another report. Three days later, the same    propped his bike on their door, “then said if I was to open the door and say something, they would body slam me,” Mr. Fernandez’s wife, Maria Fernandez, wrote on slips of paper she used to document the hallway ruckus and the inadequate police response. The boys made comments about how easy a target she was and about how they would have to “slap” her if she opened the door while they made a drug sale, and they threatened to beat the Fernandez family because “they are the ones snitching,” her notes say. But another   complaint at the substation, 10 days after the first, brought no relief. A week later, feeling desperate, Ms. Fernandez tried calling: first to the substation, at 8:50 p. m. when one of the boys blew weed smoke at her door and made a   threat to attack her, and then to 911 at 10:36 p. m. The police never came, she wrote in her notes. She tried the 40th Precinct station house next, but officers at the desk left her standing in the public waiting area for a   she said, making her fear being seen again. Officers put her in worse danger some months later, she said, when they came to her door and announced in front of the teenagers that they were there on a complaint about drug activity. Mr. Fernandez started doing the work that he said the police had failed to do. He wired a camera into his peephole to record the drugs and guns. The footage hark back to the New York of the 1980s, still very much present to some of the precinct’s residents. Around 6:30 each morning, Sgt. Michael J. LoPuzzo walks through the tall wooden doors of the 40th Precinct station house. The cases that land on his metal desk  —   dead bodies with no known cause, strip club brawls, shooting victims hobbling into the hospital themselves  —   bring resistance at every turn, reminding him of an earlier era in the city’s   campaign. “I haven’t got one single phone call that’s putting me in the right direction here,” said Sergeant LoPuzzo, the head of the precinct’s detective squad, one day this summer as he worked on an answer to an email inquiry from a murder victim’s aunt about why the killer had not been caught. “And people just don’t understand that. ” Often it is detectives who most feel the effects of people turning on the police. Witnesses shout them away from their doors just so neighbors know they refuse to talk. Of the 184 people who were shot and wounded in the Bronx through early September, more than a third  —   66 victims  —   refused to cooperate. Over the same period in the 40th Precinct, squad detectives closed three of 17 nonfatal shootings, and 72 of 343 robbery cases. Part of the resistance stems from   preventive policing tactics, like    that were a hallmark of the     style under former Mayor Michael R. Bloomberg and his police commissioner, Raymond W. Kelly. Near the height of the    strategy, in 2012, the 40th Precinct had the   stops in the city, the   stops in which officers used force and the most frisks. Of 18, 276 stops that year, 15, 521 were of people who had done nothing criminal. The precinct was also one of the   areas that the department flooded with its newest officers. At roll calls, they were pressured to generate numbers: write tickets and make arrests. They had no choice but to give a summons to a young man playing in a park after dark, even if the officers had done the same growing up in the same neighborhood. “I need to bring something in today to justify my existence,” Officer Argenis Rosado, who joined the precinct in 2010, said in an interview at the station house. “So now you’re in a small area, and day after day you’re hammering the same community. Of course that community’s eventually going to turn on you. ” The pressure warped the way officers and residents saw each other. Rookies had to ignore why someone might be drinking outside or sitting on a stoop. “Some of the cops that came out at that time probably viewed the community differently, too,” said Hector Espada, a   veteran of the precinct. “Not because they wanted to, but because they had to. Because some way or somehow, you can’t give someone a $115 summons and feel like you guys could still have a civil conversation after that. ” Morale wilted in the aged station house on Alexander Avenue, in Mott Haven. Officers felt pressure to downgrade crime complaints to make them appear less serious. Several said in interviews that they had overlooked crime reports from immigrants because they were seen as unlikely to complain, and watched supervisors badger victims into repeating their stories in hopes that they would drop their complaints. The practice of downgrading complaints resulted in the disciplining of 19 officers in the precinct last year, one in a string of scandals that has left officers there feeling overscrutinized for problems that also existed elsewhere. Four commanders in the precinct were sent packing in five years, one of them after officers were found to be “ticket fixing,” or forgiving parking tickets for friends, and another after he was recorded giving guidance on whom to stop and frisk: black boys and men, ages 14 to 21. Some officers fled to other commands. Others became reluctant to take assignments in proactive policing units, like   that put them in   situations on the street. “Whenever I walked through the doors of the precinct, to me, it seemed like a black cloud,” said Russell Lewis, a    of the 40th. “It was like a heaviness. When you walked in, all you wanted to do was do your 8 hours 35 minutes and go home, because you didn’t want to get caught up in anything. ” The precinct covers only about two square miles, but the more than a dozen housing projects there mean that it overflows with people. Methadone clinics draw addicts from around the city.   lofts on the southern edge of the precinct presage a wave of gentrification. Even as the Police Department has hired 1, 300 more officers for neighborhood policing and counterterrorism, officers in the 40th Precinct said they could still rush to 25 911 calls during a shift  —   a number unchanged from what the new police commissioner, James P. O’Neill, said he was handling in a similar South Bronx precinct 15 years ago. Several dozen calls at a time can be waiting for a response. Residents know that if you want the police for a domestic problem, it helps to hint that there is a weapon. Last year, the precinct drew the   number of civilian complaints for officer misconduct in the city, and the most lawsuits stemming from police actions. The precinct is trying to improve morale under a new commanding officer, Deputy Inspector Brian Hennessy. A cadre of what the department calls neighborhood coordination officers has been on patrol since last January, part of a citywide effort under Mr. O’Neill and Mayor Bill de Blasio to bring back the beat cop, unencumbered by chasing every last 911 call, who can listen to people’s concerns and help with investigations. The precinct has made among the most gun arrests in the city, and officers said they now had more discretion to resolve encounters without a summons or an arrest. At one corner near a school, on Courtlandt Avenue and East 151st Street, that has long spawned complaints about gunfire and fights, Inspector Hennessy and some of his officers painted over graffiti and swept up drug paraphernalia this summer. People said it was the first answer to their complaints in years. But the inspector acknowledged that the residue of   policing lingers. “That perception really sticks,” he said. The workload in the 40th Precinct is startling and reveals a gap in how detective squads are equipped to answer violent crime in Manhattan compared with the Bronx, Brooklyn and Queens. Three of the precinct’s 16 detectives are carrying more than 400 cases each this year, and many others have loads in the high 300s, even though the department advises 150 in violent precincts. When they are assigned a homicide, they typically have four days to investigate before dealing with other cases. Quieter precincts can give detectives a month with little distraction to investigate a murder. Detectives in the 40th Precinct have each handled an average of 79 violent felonies this year through    —   murders, rapes, felony assaults and robberies. By contrast, a detective in the precinct on the southern end of Staten Island carries nine such cases a detective in the precinct patrolling Union Square and Gramercy Park handles 16 and a detective in the precinct for most of Washington Heights handles 32, the citywide median. Last year, the 40th was the    for violent crime, with 65 cases per detective. In the Bronx as a whole, a precinct detective has carried an average of 58 violent felonies this year, compared with 27 in Manhattan, 37 in Brooklyn, 38 in Queens and 25 on Staten Island. Rape cases and robbery patterns are later sent to more specialized units, but precinct detectives do extensive initial work to interview victims, write reports and process evidence. Precincts in much of Manhattan, which are whiter and wealthier than the South Bronx, often have more property felonies, like stolen laptops or credit cards, and the police say those can be complex. But even accounting for those crimes, the 40th Precinct has some of the heaviest caseloads of overall crime per detective in the city. Michael Palladino, the head of the Detectives’ Endowment Association and a former Bronx officer, said staffing disparities affected the department’s efforts to build trust in communities like the South Bronx. Witnesses make a calculation, he said: “If I cooperate with the detectives, there’s so much work, there’s so few of them there, they won’t even get the chance to protect me, or they’ll be there too late when the retaliation comes. ” Sergeant LoPuzzo, who turned down a more prestigious post to stay in the 40th Precinct, said that his squad worked tirelessly to handle cases with the people he had, and that while every squad wanted more detectives, staffing needs for counterterrorism units and task forces had created new deployment challenges across the department. “We fight with the army we have, not the army we wish we had,” he said. Details of how the Police Department assigns its 36, 000 officers are closely held and constantly in flux, and the public has minimal information on how personnel are allocated. Presented with The Times’s analysis of confidential staffing data, the department’s chief of detectives, Robert K. Boyce, vowed to send more detectives to the 40th Precinct and said the department would reassess its deployment more broadly in troubled precincts. He said a recent decision to bring gang, narcotics and vice detectives under his command made it easier to shift personnel. Chief Boyce said the burdens on detectives went beyond felony crimes to include   and   cases. And he noted the support that precinct squads got from centralized units focusing on robberies, gangs or grand larcenies, for example. Major crime keeps pounding the 40th Precinct, at rates that in 2015 were only a tenth of a percent lower than in 2001, even as citywide crime dropped by more than a third over the same period. But the precinct’s detective squad shrank by about eight investigators during those years, according to staffing data obtained from the City Council through a Freedom of Information Law request. The squad covering Union Square and Gramercy Park, where crime dropped by a third over that period, grew by about 11 investigators. (The 40th Precinct was given an additional detective and four   investigators this summer, when it was already missing three detectives for illness or other reasons.) Retired detectives are skeptical that community relations alone can drive down crime in the city’s last “” the busiest precincts. Rather, they say, the Police Department should be dedicating more resources to providing the same sort of robust investigative response that seems standard in Manhattan. “Any crime in Manhattan has to be solved,” said Howard Landesberg, who was a 40th Precinct detective in the late 1980s. “The outer boroughs are, like, forgotten. ” Retired detectives said that understaffing made it harder to solve crimes in the Bronx, Brooklyn and Queens, where the higher prevalence of gang and drug killings already saddled investigators with cases in which people were not inclined to cooperate. Through   detectives had closed 67 percent of homicides in Manhattan and 76 percent of those in Staten Island this year, compared with 54 percent of those in the Bronx, 42 percent of those in Queens and 31 percent of those in Brooklyn. Of last year’s homicides, detectives cleared 71 percent in Manhattan, 63 percent in the Bronx, 62 percent in Queens, 57 percent in Staten Island and 31 percent in Brooklyn. “It’s the culture of the Police Department that they worry about Manhattan,” said Joseph L. Giacalone, a former sergeant in the Bronx Cold Case Squad, in part “because that’s where the money is. ” He added: “When de Blasio came in, he talked about the tale of two cities. And then he’s done the complete opposite of what he said. It’s just business as usual. ” The Bronx’s struggles extend into prosecutions. In each of the last five years, prosecutors in the Bronx have declined to prosecute violent felony cases more than anywhere else in the city. And the rate of conviction in the Bronx is routinely the lowest in the city as well, but has ticked up this year to surpass Brooklyn’s rate through November as Bronx prosecutors work to streamline cases. Some cases have become even more difficult to win because of the   problem in the 40th Precinct, which has allowed defense lawyers to attack the credibility of officers who were implicated, said Patrice O’Shaughnessy, a spokeswoman for the Bronx District Attorney’s office. The district attorney, Darcel D. Clark, elected in 2015, said in a statement, “I was a judge here in the Bronx, and I heard from jurors that they can’t be impartial because they don’t trust the police. ” Against that tide of mistrust, Sergeant LoPuzzo’s detectives work 36 hours straight on some fresh cases. They buy Chinese takeout with their own money for a murder suspect. They carry surveillance videos home in hopes that their personal computers may enhance them better than a squad computer. They buy an urn for a homeless mother who has her murdered son’s ashes in a box. In the months after a killing, they can seem like the only people in this glittering city who are paying attention to the 40th Precinct’s homicide victims. Newly fatherless children go back to school without a therapist’s help. Victims’ families wander confused through a courthouse and nearly miss an appearance. Newspapers largely ignore killings of people with criminal pasts, pushing them down the priority lists of the   chiefs at Police Headquarters. In a stuffy   squad room, the detectives of the 40th Precinct grapple with an inheritance of government neglect. They meet mothers who believe their sons might never have been murdered had a city guidance counselor listened to pleas to help them stay enrolled, or had a city housing worker fixed the locks or lights on a building. And the detectives work alongside a vicious system on the streets for punishing police cooperators. Young men scan court paperwork in prison, looking for the names of people who turned on them. One murder victim in the precinct this year was cast out of his crew after he avoided being arrested with them in a gang takedown some believed he was cooperating. A longtime 40th Precinct detective, Jeff Meenagh, said a witness in a homicide case was going to testify until he went back to his neighborhood and was told that anyone who testified would “get what you deserve. ” The allies Sergeant LoPuzzo makes are friendly only for so long. He helped clear a woman’s son of a robbery charge by locating surveillance video that proved he was not the robber. The mother started calling with tips under a code name  —   about a gun under a car, for example. But she always refused to testify. And she cut ties this year after Sergeant LoPuzzo arrested her son in the stabbing of two people and her   in a shooting. New York City owns East 146th Street and the   buildings on each side. But James Fernandez, in the Betances Houses, said the reality on the ground was different: The drug boss ran the block. By October, Mr. Fernandez was increasingly afraid  —   and fed up. Mr. Fernandez and his wife went so far as to give officers keys to the building door, so they could get in whenever they wanted, showed them the videos and offered them   access to his camera so they could see what was happening in the hallway. A couple of officers said they needed a supervisor’s permission to do more. Others answered that the young men were only making threats. Officers occasionally stopped outside their building, causing the young men to scatter, but did not come inside, Mr. Fernandez said. The menacing worsened. Mr. Fernandez’s daughter was harassed as she arrived home from school. She grew more and more distressed, and her parents had her start seeing a therapist. Mr. Fernandez made several complaints at the office of the borough president, Ruben Diaz Jr. and visited a victim’s advocate in the district attorney’s office. On Oct. 20, 2015, he sent an online note to the police commissioner’s office. “We went to all proper channels for help,” the note said. “Both precincts failed us, except 2 officers who helped us, but their hands are tied. No one else to turn to. I have months of video of multiple crimes taking place and we are in extreme danger. ” “40th and PSA 7 won’t do anything,” he wrote, referring to the local substation. “Please we need to speak to some one with authority. ” The local substation commander, Deputy Inspector Jerry O’Sullivan, and the Bronx narcotics unit were alerted to the complaints. But Mr. Fernandez said he never heard from them. So he relied on his own street instincts to protect his family. He made pleas to a man he thought was employing the dealers in the hallway. The activity quieted briefly, but it returned after the young men rented a room in a woman’s apartment upstairs. Mr. Fernandez approached a different man who he learned was the boss of the operation. The man agreed to ask the dealers to calm down. He even hired a drug customer to sweep the hallway, Mr. Fernandez said. But two weeks later, the dealing and the harassment resumed. So he went to his old Lower East Side bosses, who hired men to trail his wife and daughter on their way out of the building and make sure they made it safely to school. At other times they sat outside the Betances Houses. He also bought two bulletproof vests, for about $700 each. He could not find one small enough for his daughter. “I have no faith in the City of New York, I have no faith in the police, I have no faith in the politicians,” Mr. Fernandez said. “The only thing I know for sure: God, if we’re in a situation again, I will be left to defend my family. ” Paying such close attention to what was happening in the hallway, Mr. Fernandez said he learned some details about two recent homicides that the 40th Precinct was investigating. But because his calls for help were going nowhere, he said he decided not to put himself in greater risk by talking: He would not tell the police what he had learned. “I’m bending over backward, and nobody’s not even doing anything,” he said. “Why am I going to help you, if you ain’t going to help me?” By last January, a new neighborhood coordination officer was working with residents of the Betances Houses, and ended up with the most arrests in his housing command, Inspector O’Sullivan said. Chief Boyce said that the silos in which gang and narcotics detectives used to work made responding to complaints more difficult, but that the recent restructuring would remove those obstacles. “No one should live like Mr. Fernandez lived, with people dealing drugs outside of his apartment,” he said. Mr. Fernandez’s complaints did not spur any arrests, but two men from the hallway were caught separately this year in shootings. One of them, whom Mr. Fernandez named in a police report, was charged this summer with hitting an officer with a metal folding chair and firing three gunshots into a crowd, court papers say. He is being held on Rikers Island on an attempted murder charge. That was too late for Mr. Fernandez. By May, he had moved his family away.'"
      ]
     },
     "execution_count": 24,
     "metadata": {},
     "output_type": "execute_result"
    }
   ],
   "source": [
    "print (\"The Actual length of the article is : \", len(df['article'][1]))\n",
    "df['article'][1]"
   ]
  },
  {
   "cell_type": "code",
   "execution_count": 29,
   "metadata": {
    "execution": {
     "iopub.execute_input": "2021-06-24T08:40:57.563266Z",
     "iopub.status.busy": "2021-06-24T08:40:57.562507Z",
     "iopub.status.idle": "2021-06-24T08:40:57.567558Z",
     "shell.execute_reply": "2021-06-24T08:40:57.566938Z",
     "shell.execute_reply.started": "2021-06-24T07:52:01.257907Z"
    },
    "papermill": {
     "duration": 0.038906,
     "end_time": "2021-06-24T08:40:57.567697",
     "exception": false,
     "start_time": "2021-06-24T08:40:57.528791",
     "status": "completed"
    },
    "tags": []
   },
   "outputs": [
    {
     "name": "stdout",
     "output_type": "stream",
     "text": [
      "The length of the summarized article is :  10789\n"
     ]
    },
    {
     "data": {
      "text/plain": [
       "'even as the police department has hired 1 300 more officers for neighborhood policing and counterterrorism officers in the 40th precinct said they could still rush to 25 911 calls during a shift — a number unchanged from what the new police commissioner james p o’neill said he was handling in a similar south bronx precinct 15 years ago.” sergeant lopuzzo who turned down a more prestigious post to stay in the 40th precinct said that his squad worked tirelessly to handle cases with the people he had and that while every squad wanted more detectives staffing needs for counterterrorism units and task forces had created new deployment challenges across the department.“i have not got one single phone call that is putting me in the right direction here” said sergeant lopuzzo the head of the precinct detective squad one day this summer as he worked on an answer to an email inquiry from a murder victim aunt about why the killer had not been caught.three days later the same propped his bike on their door “then said if i was to open the door and say something they would body slam me” mr fernandez wife maria fernandez wrote on slips of paper she used to document the hallway ruckus and the inadequate police response.“there is a lot of killers here and we are going to kill you” a sergeant police report quoted a telling mr fernandez in august 2015 a second report filed the same day said a warned him “i am going to shoot through your window.“it is the culture of the police department that they worry about manhattan” said joseph l giacalone a former sergeant in the bronx cold case squad in part “because that is where the money is.“i have no faith in the city of new york i have no faith in the police i have no faith in the politicians” mr fernandez said.by contrast a detective in the precinct on the southern end of staten island carries nine such cases a detective in the precinct patrolling union square and gramercy park handles 16 and a detective in the precinct for most of washington heights handles 32 the citywide median.four commanders in the precinct were sent packing in five years one of them after officers were found to be “ticket fixing” or forgiving parking tickets for friends and another after he was recorded giving guidance on whom to stop and frisk black boys and men ages 14 to 21 some officers fled to other commands.presented with the times analysis of confidential staffing data the department chief of detectives robert k boyce vowed to send more detectives to the 40th precinct and said the department would reassess its deployment more broadly in troubled precincts.the boys made comments about how easy a target she was and about how they would have to “slap” her if she opened the door while they made a drug sale and they threatened to beat the fernandez family because “they are the ones snitching” her notes say.“any crime in manhattan has to be solved” said howard landesberg who was a 40th precinct detective in the late 1980s.from hundreds of conversations with grieving relatives and friends witnesses and police officers the social forces that flare into murder in a place like the 40th precinct become clearer merciless gang codes mental illness drugs and long memories of feuds that simmered out of officers’ view.” the times has been documenting the murders logged this year in the 40th precinct one of a handful of neighborhoods where deadly violence remains a problem in an era of crime in new york city.out of the city 77 precincts the 40th has the highest murder rate but the fewest detectives per violent crime reflecting disparities in staffing that hit hardest in some neighborhoods outside manhattan according to a new york times analysis of police department data.” paying such close attention to what was happening in the hallway mr fernandez said he learned some details about two recent homicides that the 40th precinct was investigating.” retired detectives said that understaffing made it harder to solve crimes in the bronx brooklyn and queens where the higher prevalence of gang and drug killings already saddled investigators with cases in which people were not inclined to cooperate.“whenever i walked through the doors of the precinct to me it seemed like a black cloud” said russell lewis a of the 40th.some cases have become even more difficult to win because of the problem in the 40th precinct which has allowed defense lawyers to attack the credibility of officers who were implicated said patrice ohaughnessy a spokeswoman for the bronx district attorney office.“no one should live like mr fernandez lived with people dealing drugs outside of his apartment” he said.“why am i going to help you if you am not going to help me” by last january a new neighborhood coordination officer was working with residents of the betances houses and ended up with the most arrests in his housing command inspector oullivan said.a longtime 40th precinct detective jeff meenagh said a witness in a homicide case was going to testify until he went back to his neighborhood and was told that anyone who testified would “get what you deserve.this kind of crime an anachronism in much of new york still rattles the 40th precinct even though murders there have fallen to 14 this year from 83 in 1991 it has more major felony crimes per resident than any other residential district in the city.investigators in the precinct are saddled with twice the number of cases the department recommends even as their bosses are called to police headquarters to answer for the sharpest crime rise in the city this year.and its homicide squad has one detective for every four murders compared with one detective for roughly every two murders in upper manhattan and more than one detective per murder in lower manhattan.gola white who was beside her daughter when she was shot and killed in a playground this summer four years after her son was gunned down in the same housing project ticked off the public safety resources that she said were scant in bronx neighborhoods like hers security cameras lights locks investigating police officers.“i need to bring something in today to justify my existence” officer argenis rosado who joined the precinct in 2010 said in an interview at the station house.michael palladino the head of the detectives’ endowment association and a former bronx officer said staffing disparities affected the department efforts to build trust in communities like the south bronx.“some of the cops that came out at that time probably viewed the community differently too” said hector espada a veteran of the precinct.the practice of downgrading complaints resulted in the disciplining of 19 officers in the precinct last year one in a string of scandals that has left officers there feeling overscrutinized for problems that also existed elsewhere.the district attorney darcel d clark elected in 2015 said in a statement “i was a judge here in the bronx and i heard from jurors that they cannot be impartial because they do not trust the police.a cadre of what the department calls neighborhood coordination officers has been on patrol since last january part of a citywide effort under mr o’neill and mayor bill de blasio to bring back the beat cop unencumbered by chasing every last 911 call who can listen to people concerns and help with investigations.the workload in the 40th precinct is startling and reveals a gap in how detective squads are equipped to answer violent crime in manhattan compared with the bronx brooklyn and queens.she tried the 40th precinct station house next but officers at the desk left her standing in the public waiting area for a she said making her fear being seen again.witnesses make a calculation he said “if i cooperate with the detectives there is so much work there is so few of them there they will not even get the chance to protect me or they will be there too late when the retaliation comes.three of the precinct 16 detectives are carrying more than 400 cases each this year and many others have loads in the high 300s even though the department advises 150 in violent precincts.after leaving that life he got a tech maintenance job and three years ago moved into the betances houses with his wife and daughter now 11 he had two choices to get help with the drug crew call the police for help and risk being labeled a snitch or call his old lower east side bosses for muscle and risk violence.the precinct has made among the most gun arrests in the city and officers said they now had more discretion to resolve encounters without a summons or an arrest.the homicides — 14 in the precinct this year up from nine in 2015 — strain detectives and when they go unsolved as half of them have this year some look to take the law into their own hands.of last year homicides detectives cleared 71 percent in manhattan 63 percent in the bronx 62 percent in queens 57 percent in staten island and 31 percent in brooklyn.through detectives had closed 67 percent of homicides in manhattan and 76 percent of those in staten island this year compared with 54 percent of those in the bronx 42 percent of those in queens and 31 percent of those in brooklyn.when it comes to “ families” she said the authorities “do not really care as much.retired detectives are skeptical that community relations alone can drive down crime in the city last “” the busiest precincts.in the bronx as a whole a precinct detective has carried an average of 58 violent felonies this year compared with 27 in manhattan 37 in brooklyn 38 in queens and 25 on staten island.last year the precinct drew the number of civilian complaints for officer misconduct in the city and the most lawsuits stemming from police actions.a week later feeling desperate ms fernandez tried calling first to the substation at 850 p m when one of the boys blew weed smoke at her door and made a threat to attack her and then to 911 at 1036 p m the police never came she wrote in her notes.but even accounting for those crimes the 40th precinct has some of the heaviest caseloads of overall crime per detective in the city.detectives in the 40th precinct have each handled an average of 79 violent felonies this year through — murders rapes felony assaults and robberies.major crime keeps pounding the 40th precinct at rates that in 2015 were only a tenth of a percent lower than in 2001 even as citywide crime dropped by more than a third over the same period.in the months after a killing they can seem like the only people in this glittering city who are paying attention to the 40th precinct homicide victims.” “40th and psa 7 will not do anything” he wrote referring to the local substation.near the height of the strategy in 2012 the 40th precinct had the stops in the city the stops in which officers used force and the most frisks'"
      ]
     },
     "execution_count": 29,
     "metadata": {},
     "output_type": "execute_result"
    }
   ],
   "source": [
    "print (\"The length of the summarized article is : \", len(summaries[1]))\n",
    "summaries[1]"
   ]
  }
 ],
 "metadata": {
  "kernelspec": {
   "display_name": "Python 3 (ipykernel)",
   "language": "python",
   "name": "python3"
  },
  "language_info": {
   "codemirror_mode": {
    "name": "ipython",
    "version": 3
   },
   "file_extension": ".py",
   "mimetype": "text/x-python",
   "name": "python",
   "nbconvert_exporter": "python",
   "pygments_lexer": "ipython3",
   "version": "3.9.7"
  },
  "papermill": {
   "default_parameters": {},
   "duration": 32.737104,
   "end_time": "2021-06-24T08:40:58.406506",
   "environment_variables": {},
   "exception": null,
   "input_path": "__notebook__.ipynb",
   "output_path": "__notebook__.ipynb",
   "parameters": {},
   "start_time": "2021-06-24T08:40:25.669402",
   "version": "2.2.2"
  }
 },
 "nbformat": 4,
 "nbformat_minor": 4
}
